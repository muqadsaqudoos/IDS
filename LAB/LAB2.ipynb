{
 "cells": [
  {
   "cell_type": "code",
   "execution_count": null,
   "metadata": {},
   "outputs": [],
   "source": [
    "\"\"\"1. Create a NumPy array to store player names, game scores, and levels reached.\n",
    "2. Update the score of the player who has reached the highest level.\n",
    "3. Append a new player's data (name, score, level) to the array.\n",
    "4. Insert a new player's score at a specific index within the array.\n",
    "5. Delete the player with the lowest score from the dataset.\"\"\"\n",
    "\n",
    "import numpy as np\n",
    "players = np.array([(\"Babar\",56,10),(\"Rizwan\",78,4),(\"shaheen\",30,2)], dtype=[('name','U10'),('scores','i2'),('level','i2')])\n",
    "print(players)\n",
    "max_level_index = np.argmax(players['level'])\n",
    "players['scores'][max_level_index] += 10\n",
    "print(players)\n",
    "new_player = np.array([(\"imad\",65,5)],dtype= players.dtype)\n",
    "players = np.append(players,new_player)\n",
    "print(players)\n",
    "new_player_to_insert = np.array([(\"Haris\", 45, 3)], dtype=players.dtype)\n",
    "players = np.insert(players,3,new_player_to_insert)\n",
    "print(players)\n",
    "min_score_index = np.argmin(players['scores'])\n",
    "players = np.delete(players, min_score_index)\n",
    "print(players)\n"
   ]
  },
  {
   "cell_type": "code",
   "execution_count": null,
   "metadata": {},
   "outputs": [],
   "source": [
    "\"\"\"Task 2:\n",
    "Scenario: You are analyzing website traffic data.\n",
    "1. Create two NumPy arrays: one for daily visitors and another for pages viewed.\n",
    "2. Create a shallow copy of the visitors array and a deep copy of the pages viewed array.\n",
    "3. Concatenate both arrays to form a new array.\n",
    "4. Split the concatenated array into two parts based on a threshold (e.g., more than 100\n",
    "pages viewed).\n",
    "5. Modify the original arrays and observe the changes in the copies.\n",
    "\"\"\"\n",
    "from copy import *\n",
    "daily_visitors = np.array([101,20,30,40,50])\n",
    "print(daily_visitors)\n",
    "pages_viewd = np.array([1,10,200,350,40])\n",
    "print(pages_viewd)\n",
    "shallowcopy = daily_visitors.copy()\n",
    "print(shallowcopy)\n",
    "deepcopy = deepcopy(pages_viewd)\n",
    "print(deepcopy)\n",
    "concatenate_array = np.concatenate((daily_visitors,pages_viewd))\n",
    "print(concatenate_array)\n",
    "part_a = concatenate_array[concatenate_array>100]\n",
    "part_b = concatenate_array[concatenate_array<=100]\n",
    "print(part_a)\n",
    "print(part_b)\n",
    "daily_visitors[0] = 100\n",
    "print(daily_visitors,shallowcopy)\n",
    "pages_viewd[0] = 99\n",
    "print(pages_viewd,deepcopy)"
   ]
  }
 ],
 "metadata": {
  "kernelspec": {
   "display_name": "Python 3",
   "language": "python",
   "name": "python3"
  },
  "language_info": {
   "name": "python",
   "version": "3.11.5"
  }
 },
 "nbformat": 4,
 "nbformat_minor": 2
}
