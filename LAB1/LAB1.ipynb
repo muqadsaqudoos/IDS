{
 "cells": [
  {
   "cell_type": "code",
   "execution_count": null,
   "metadata": {},
   "outputs": [],
   "source": []
  },
  {
   "cell_type": "code",
   "execution_count": null,
   "metadata": {},
   "outputs": [],
   "source": [
    "import numpy as np\n",
    "arr1 = np.array([1,2,3,4,5,6,7,8,9,10,11,12,13,14,15,16,17,18,19,20])\n",
    "print(\"array: \", arr1)\n",
    "arr2 = np.reshape(arr1, (4, 5))\n",
    "print(\"array2: \", arr2)\n",
    "arr3 = arr1.flatten(order = 'C')\n",
    "print(\"\\nFlattened array: \", arr3)\n"
   ]
  },
  {
   "cell_type": "code",
   "execution_count": null,
   "metadata": {},
   "outputs": [],
   "source": [
    "rr1 = np.random.randint(1,50, size=(5,5))\n",
    "print(rr1)\n",
    "\n"
   ]
  },
  {
   "cell_type": "code",
   "execution_count": null,
   "metadata": {},
   "outputs": [],
   "source": [
    "## for rowsss\n",
    "\n",
    "a = []\n",
    "for maxx in rr1:\n",
    "    a.append(np.max(maxx))\n",
    "print(a)\n",
    "\n",
    "b = []\n",
    "for minn in rr1:\n",
    "    b.append(np.min(minn))\n",
    "print(b)\n",
    "\n",
    "c = []\n",
    "for avgg in rr1:\n",
    "    c.append(np.average(avgg))\n",
    "print(c)\n",
    "\n",
    "d = []\n",
    "for summ in rr1:\n",
    "    d.append(np.sum(summ))\n",
    "print(d)\n"
   ]
  },
  {
   "cell_type": "code",
   "execution_count": null,
   "metadata": {},
   "outputs": [],
   "source": [
    "## for colss\n",
    "import numpy as np\n",
    "rr3 = rr1.flatten(order = 'F')\n",
    "rr4 = np.reshape(rr3, (5, 5))\n",
    "print(rr4)\n",
    "\n",
    "a = []\n",
    "for maxx in rr4:\n",
    "    a.append(np.max(maxx))\n",
    "print(a)\n",
    "\n",
    "b = []\n",
    "for minn in rr4:\n",
    "    b.append(np.min(minn))\n",
    "print(b)\n",
    "\n",
    "c = []\n",
    "for avgg in rr4:\n",
    "    c.append(np.average(avgg))\n",
    "print(c)\n",
    "\n",
    "d = []\n",
    "for summ in rr4:\n",
    "    d.append(np.sum(summ))\n",
    "print(d)\n"
   ]
  },
  {
   "cell_type": "code",
   "execution_count": null,
   "metadata": {},
   "outputs": [],
   "source": [
    "arr1 = np.eye(4)\n",
    "arr1 = arr1*5\n",
    "arr1[-1] = 1\n",
    "print(arr1)\n"
   ]
  },
  {
   "cell_type": "code",
   "execution_count": null,
   "metadata": {},
   "outputs": [],
   "source": [
    "rr1 = np.random.randint(0,20, size=15)\n",
    "print(rr1)\n",
    "uniq, count = np.unique(rr1,return_counts=True)\n",
    "dict = {}\n",
    "for i in range(len(uniq)):\n",
    "    dict[uniq[i]] = count[i]\n",
    "print(dict)\n",
    "\n"
   ]
  },
  {
   "cell_type": "code",
   "execution_count": null,
   "metadata": {},
   "outputs": [],
   "source": [
    "rr1 = np.random.rand(3,4)\n",
    "print(rr1)\n",
    "a = np.round(rr1,2)\n",
    "a[:,1] *.5\n",
    "print(a)"
   ]
  }
 ],
 "metadata": {
  "kernelspec": {
   "display_name": "Python 3",
   "language": "python",
   "name": "python3"
  },
  "language_info": {
   "name": "python",
   "version": "3.11.5"
  }
 },
 "nbformat": 4,
 "nbformat_minor": 2
}
