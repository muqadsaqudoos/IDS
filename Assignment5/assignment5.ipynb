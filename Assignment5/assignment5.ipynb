{
 "cells": [
  {
   "cell_type": "code",
   "execution_count": null,
   "metadata": {},
   "outputs": [],
   "source": [
    "import pandas as pd\n",
    "\n",
    "customer = pd.read_csv('customers.csv')\n",
    "sales = pd.read_csv('sales.csv')\n",
    "print(customer.head())\n",
    "print(sales.head())\n",
    "\n",
    "\n",
    "print(f'Customer : Rows: {customer.shape[0]}, Columns: {customer.shape[1]}')\n",
    "print(f'Sales : Rows: {sales.shape[0]}, Columns: {sales.shape[1]}')\n",
    "\n",
    "print(f'\\nCustomer Null Values:\\n {customer.isnull().sum()}')\n",
    "print(f'\\nSales Null Values:\\n {sales.isnull().sum()}')\n",
    "\n",
    "numerical_columns_customer = customer.select_dtypes(include=['float64', 'int64']).columns\n",
    "numerical_columns_sales = sales.select_dtypes(include=['float64', 'int64']).columns\n",
    "\n",
    "customer[numerical_columns_customer] = customer[numerical_columns_customer].fillna(customer[numerical_columns_customer].mean())\n",
    "sales[numerical_columns_sales] = sales[numerical_columns_sales].fillna(sales[numerical_columns_sales].mean())\n",
    "\n",
    "categorical_columns_customer = customer.select_dtypes(include=['object']).columns\n",
    "categorical_columns_sales = sales.select_dtypes(include=['object']).columns\n",
    "\n",
    "customer[categorical_columns_customer] = customer[categorical_columns_customer].fillna(customer[categorical_columns_customer].mode().iloc[0])\n",
    "sales[categorical_columns_sales] = sales[categorical_columns_sales].fillna(sales[categorical_columns_sales].mode().iloc[0])\n",
    "\n",
    "print(f'\\nCustomer Null Values after filling:\\n {customer.isnull().sum()}')\n",
    "print(f'\\nSales Null Values after filling:\\n {sales.isnull().sum()}')\n"
   ]
  },
  {
   "cell_type": "code",
   "execution_count": null,
   "metadata": {},
   "outputs": [],
   "source": [
    "import time\n",
    "customers_dict = customer.to_dict(orient=\"records\")\n",
    "\n",
    "city_to_filter = \"Chicago\"\n",
    "\n",
    "start_dict = time.time()\n",
    "customers_dict_2 = [customer for customer in customers_dict if customer[\"City\"] == city_to_filter]\n",
    "end_dict = time.time()\n",
    "\n",
    "start_df = time.time()\n",
    "customers_df = customer[customer[\"City\"] == city_to_filter]\n",
    "end_df = time.time()\n",
    "\n",
    "print(\"Using Dictionary:\")\n",
    "print(customers_dict_2)\n",
    "print(\"Using DataFrame:\")\n",
    "print(customers_df)\n",
    "\n",
    "print(\"Dictionary time:\", end_dict - start_dict)\n",
    "print(\"DataFrame time:\", end_df - start_df)\n"
   ]
  },
  {
   "cell_type": "code",
   "execution_count": null,
   "metadata": {},
   "outputs": [],
   "source": [
    "print(\"Duplicate Rows in Customer:\")\n",
    "print(customer[customer.duplicated()])\n",
    "\n",
    "print(\"\\nDuplicate Rows in Sales:\")\n",
    "print(sales[sales.duplicated()])\n",
    "\n",
    "customer_clean = customer.drop_duplicates()\n",
    "sales_clean = sales.drop_duplicates()\n",
    "\n",
    "print(\"\\nDuplicates left in Customer\", customer_clean.duplicated().any())\n",
    "print(\"Duplicates left in Sales\", sales_clean.duplicated().any())\n",
    "\n",
    "customer_clean.to_csv('cleaned_customers.csv', index=False)\n",
    "sales_clean.to_csv('cleaned_sales.csv', index=False)\n"
   ]
  },
  {
   "cell_type": "code",
   "execution_count": null,
   "metadata": {},
   "outputs": [],
   "source": [
    "sales_clean['Discounted_Amount'] = sales_clean['Amount'] * 0.9\n",
    "\n",
    "grouped_sales = sales_clean.groupby('Product')['Discounted_Amount'].sum().reset_index()\n",
    "\n",
    "grouped_sales.columns = ['Product', 'Total_Sales']\n",
    "\n",
    "print(\"\\nTotal Sales by Product (after 10% discount):\")\n",
    "print(grouped_sales)\n",
    "\n",
    "grouped_sales.to_csv('grouped_sales.csv', index=False)\n"
   ]
  },
  {
   "cell_type": "code",
   "execution_count": null,
   "metadata": {},
   "outputs": [],
   "source": [
    "filtered_customers = customer[(customer['Age'] >= 25) & (customer['Age'] <= 35)]\n",
    "filtered_customers.to_csv('filtered_customer.csv', index=False)\n",
    "city_counts = filtered_customers['City'].value_counts()\n",
    "\n",
    "print(\"\\nCustomers Aged 25 to 35:\")\n",
    "print(filtered_customers)\n",
    "\n",
    "print(\"\\nNumber of Customers by City:\")\n",
    "print(city_counts)\n"
   ]
  },
  {
   "cell_type": "code",
   "execution_count": null,
   "metadata": {},
   "outputs": [],
   "source": [
    "merged_data = pd.merge(customer, sales, on='CustomerID', how='inner')\n",
    "print(\"Merged Dataset:\")\n",
    "print(merged_data.head())\n",
    "\n",
    "city_sales = merged_data.groupby('City')['Amount'].sum().reset_index()\n",
    "city_sales = city_sales.sort_values(by='Amount', ascending=False)\n",
    "highest_sales_city = city_sales.iloc[0]\n",
    "\n",
    "print(\"\\nCity with the Highest Total Sales:\")\n",
    "print(highest_sales_city)\n",
    "\n",
    "product_sales = merged_data.groupby('Product')['Amount'].count().reset_index()\n",
    "product_sales = product_sales.sort_values(by='Amount', ascending=False)\n",
    "most_sold_product = product_sales.iloc[0]\n",
    "\n",
    "print(\"\\nProduct with the Most Units Sold:\")\n",
    "print(most_sold_product)\n"
   ]
  },
  {
   "cell_type": "code",
   "execution_count": null,
   "metadata": {},
   "outputs": [],
   "source": [
    "unique_cities = merged_data['City'].unique()\n",
    "unique_products = merged_data['Product'].unique()\n",
    "\n",
    "print(\"Unique Values in 'City' Column:\")\n",
    "print(unique_cities)\n",
    "\n",
    "print(\"\\nUnique Values in 'Product' Column:\")\n",
    "print(unique_products)\n",
    "\n",
    "mean_amount = merged_data['Amount'].mean()\n",
    "median_amount = merged_data['Amount'].median()\n",
    "\n",
    "print(\"\\nMean of 'Amount' Column:\")\n",
    "print(mean_amount)\n",
    "\n",
    "print(\"\\nMedian of 'Amount' Column:\")\n",
    "print(median_amount)\n"
   ]
  }
 ],
 "metadata": {
  "kernelspec": {
   "display_name": "Python 3",
   "language": "python",
   "name": "python3"
  },
  "language_info": {
   "name": "python",
   "version": "3.11.5"
  }
 },
 "nbformat": 4,
 "nbformat_minor": 2
}
