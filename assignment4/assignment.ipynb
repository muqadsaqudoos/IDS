{
 "cells": [
  {
   "cell_type": "code",
   "execution_count": null,
   "metadata": {},
   "outputs": [],
   "source": [
    "import numpy as np\n",
    "temperature_data = np.random.uniform(-10,40,(500,365))\n",
    "humidity_data = np.random.uniform(0,100,(500,365))\n",
    "print(temperature_data)\n",
    "print(humidity_data)"
   ]
  },
  {
   "cell_type": "code",
   "execution_count": null,
   "metadata": {},
   "outputs": [],
   "source": [
    "missing_values = int(0.05*temperature_data.size)\n",
    "temperature_data.ravel()[np.random.choice(temperature_data.size, missing_values, replace=False)] = np.nan\n",
    "humidity_data.ravel()[np.random.choice(humidity_data.size, missing_values, replace=False)] = np.nan\n",
    "\n",
    "missing_temperature = np.isnan(temperature_data).sum()\n",
    "missing_humidity = np.isnan(humidity_data).sum()\n",
    "\n",
    "print(f\"temperature data: {missing_temperature}\")\n",
    "print(f\"humidity data: {missing_humidity}\")\n"
   ]
  },
  {
   "cell_type": "code",
   "execution_count": null,
   "metadata": {},
   "outputs": [],
   "source": [
    "temperature_fahrenheit = (temperature_data * 9/5) + 32\n",
    "discomfort_index = temperature_fahrenheit * 0.72 + humidity_data * 0.15\n",
    "discomfort_index = np.where(discomfort_index > 80, 80, discomfort_index)\n",
    "print(discomfort_index)"
   ]
  },
  {
   "cell_type": "code",
   "execution_count": null,
   "metadata": {},
   "outputs": [],
   "source": [
    "january_temperatures = temperature_data[:, :31]\n",
    "average_january_temp = np.nanmean(january_temperatures)\n",
    "print(average_january_temp)\n"
   ]
  },
  {
   "cell_type": "code",
   "execution_count": null,
   "metadata": {},
   "outputs": [],
   "source": [
    "temperature_data[temperature_data > 35] = np.nan\n",
    "null_counts_per_location = np.isnan(temperature_data).sum(axis=1)\n",
    "print(null_counts_per_location)\n"
   ]
  },
  {
   "cell_type": "code",
   "execution_count": null,
   "metadata": {},
   "outputs": [],
   "source": [
    "\n",
    "\n",
    "quarterly_temps = np.split(temperature_data, [91, 182, 273], axis=1)\n",
    "quarterly_averages = [np.nanmean(q, axis=1) for q in quarterly_temps]\n",
    "quarterly_averages = np.array(quarterly_averages).T\n",
    "print(quarterly_averages)\n"
   ]
  },
  {
   "cell_type": "code",
   "execution_count": null,
   "metadata": {},
   "outputs": [],
   "source": [
    "dry_days = np.sum(humidity_data < 30, axis=1)\n",
    "humid_days = np.sum(humidity_data > 70, axis=1)\n",
    "\n",
    "print(\"Total dry days per location:\", dry_days)\n",
    "print(\"Total humid days per location:\", humid_days)\n"
   ]
  },
  {
   "cell_type": "code",
   "execution_count": null,
   "metadata": {},
   "outputs": [],
   "source": [
    "pressure_trend = np.sin(np.linspace(0, 2 * np.pi, 365))\n",
    "adjusted_temperature_data = temperature_data + pressure_trend\n",
    "print(\"Adjusted temperature data based on daily pressure trend applied.\")\n",
    "print(adjusted_temperature_data)"
   ]
  }
 ],
 "metadata": {
  "kernelspec": {
   "display_name": "Python 3",
   "language": "python",
   "name": "python3"
  },
  "language_info": {
   "name": "python",
   "version": "3.11.5"
  }
 },
 "nbformat": 4,
 "nbformat_minor": 2
}
